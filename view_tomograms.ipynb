{
 "cells": [
  {
   "cell_type": "code",
   "execution_count": 29,
   "metadata": {},
   "outputs": [],
   "source": [
    "import numpy as np\n",
    "import matplotlib.pyplot as plt\n",
    "from matplotlib.animation import FuncAnimation\n",
    "from IPython.display import HTML, display\n",
    "import ipywidgets as widgets\n",
    "import os\n",
    "import time\n",
    "import pickle\n"
   ]
  },
  {
   "cell_type": "code",
   "execution_count": 30,
   "metadata": {},
   "outputs": [],
   "source": [
    "def plot_in_notebook(array, num_slices=10, save_path=None, custom_name=None, speed_factor=2, show_in_notebook=False):\n",
    "    \"\"\"\n",
    "    Plot a 3D numpy array as animated slices with average of specified number of slices.\n",
    "    The animations are 30% smaller and use grayscale, and only the shortest axis is plotted.\n",
    "    \n",
    "    Parameters:\n",
    "    - array: 3D numpy array to plot\n",
    "    - num_slices: Number of slices to average in each frame\n",
    "    - save_path: Directory path to save the animations as videos. If None, videos are not saved.\n",
    "    - custom_name: Custom name to be included in the saved video file name and the plot title.\n",
    "    - speed_factor: A multiplier to control the speed of the animation (higher value means faster animation).\n",
    "    - show_in_notebook: Boolean flag to control whether the animation is displayed in the notebook or not.\n",
    "    \"\"\"\n",
    "    \n",
    "    # Determine the shortest axis\n",
    "    shortest_axis = np.argmin(array.shape)\n",
    "    \n",
    "    def update_plot(frame, axis, ax):\n",
    "        ax.cla()  # Clear the current plot\n",
    "        \n",
    "        \n",
    "        if axis == 0:\n",
    "            start_slice = max(0, frame - num_slices // 2)\n",
    "            end_slice = min(array.shape[axis], frame + num_slices // 2 + 1)\n",
    "            slices = array[start_slice:end_slice, :, :]\n",
    "            slice_ = np.mean(slices, axis=0)\n",
    "            xlabel, ylabel = 'x', 'y'\n",
    "        elif axis == 1:\n",
    "            start_slice = max(0, frame - num_slices // 2)\n",
    "            end_slice = min(array.shape[axis], frame + num_slices // 2 + 1)\n",
    "            slices = array[:, start_slice:end_slice, :]\n",
    "            slice_ = np.mean(slices, axis=1)\n",
    "            xlabel, ylabel = 'z', 'y'\n",
    "        elif axis == 2:\n",
    "            start_slice = max(0, frame - num_slices // 2)\n",
    "            end_slice = min(array.shape[axis], frame + num_slices // 2 + 1)\n",
    "            slices = array[:, :, start_slice:end_slice]\n",
    "            slice_ = np.mean(slices, axis=2)\n",
    "            xlabel, ylabel = 'z', 'x'\n",
    "        \n",
    "        im = ax.imshow(slice_, cmap='gray', animated=True, origin='lower', vmin=0, vmax=1)\n",
    "        ax.set_xlabel(xlabel)\n",
    "        ax.set_ylabel(ylabel)\n",
    "        \n",
    "        # Set the plot title using custom_name if provided, else use a default title\n",
    "        plot_title = f'{custom_name}' if custom_name else f'Axis {axis} ({\"z\" if axis == 0 else \"x\" if axis == 1 else \"y\"}) Slice {frame}'\n",
    "        ax.set_title(plot_title)\n",
    "        \n",
    "        return [im]\n",
    "\n",
    "    # Plot only along the shortest axis\n",
    "    fig, ax = plt.subplots(figsize=(6, 4))\n",
    "    \n",
    "    # Calculate the interval in milliseconds, with speed_factor adjusting the speed\n",
    "    interval = max(10, int(100 / speed_factor))  # 100ms is the default, and higher speed_factor means shorter interval\n",
    "    \n",
    "    ani = FuncAnimation(\n",
    "        fig, update_plot, frames=array.shape[shortest_axis], \n",
    "        fargs=(shortest_axis, ax), blit=True, repeat=False, interval=interval\n",
    "    )\n",
    "    plt.close(fig)  # Close the figure to prevent it from displaying statically\n",
    "\n",
    "    # Save the animation if save_path is provided\n",
    "    if save_path is not None:\n",
    "        # Ensure the save_path directory exists\n",
    "        os.makedirs(save_path, exist_ok=True)\n",
    "        axis_names = ['z', 'x', 'y']\n",
    "        \n",
    "        # Set the custom name or default to 'animation_axis'\n",
    "        base_name = f'animation_axis_{axis_names[shortest_axis]}'\n",
    "        if custom_name:\n",
    "            base_name += f'_{custom_name}'\n",
    "        \n",
    "        video_filename = os.path.join(save_path, f'{base_name}.mp4')\n",
    "        ani.save(video_filename, writer='ffmpeg', dpi=100)\n",
    "        print(f\"Saved animation for axis {axis_names[shortest_axis]} to {video_filename}\")\n",
    "\n",
    "    # Optionally display the animation in the notebook\n",
    "    if show_in_notebook:\n",
    "        output = widgets.Output()\n",
    "        with output:\n",
    "            display(HTML(ani.to_jshtml()))\n",
    "        display(output)\n"
   ]
  },
  {
   "cell_type": "code",
   "execution_count": 31,
   "metadata": {},
   "outputs": [],
   "source": [
    "def convert_mask_to_numpy(mask_dict):\n",
    "    \"\"\"\n",
    "    Convert nested mask dictionary to numpy array, removing the unnecessary '1' key level.\n",
    "    \n",
    "    Parameters:\n",
    "    -----------\n",
    "    mask_dict : dict\n",
    "        Nested dictionary with format {frame: {1: array}}\n",
    "    \n",
    "    Returns:\n",
    "    --------\n",
    "    numpy.ndarray\n",
    "        3D array with shape (frames, height, width)\n",
    "    \"\"\"\n",
    "    # Get all frame numbers and sort them\n",
    "    frame_numbers = sorted(mask_dict.keys())\n",
    "    \n",
    "    # Get the shape of a single frame (removing the '1' key)\n",
    "    sample_shape = mask_dict[frame_numbers[0]][1].shape[1:]  # Skip the first dimension\n",
    "    \n",
    "    # Create empty array with correct shape\n",
    "    num_frames = len(frame_numbers)\n",
    "    mask_array = np.zeros((num_frames, *sample_shape), dtype=bool)\n",
    "    \n",
    "    # Fill the array, removing the extra dimension\n",
    "    for i, frame in enumerate(frame_numbers):\n",
    "        mask_array[i] = mask_dict[frame][1][0]  # [0] removes the extra dimension\n",
    "    \n",
    "    return mask_array\n"
   ]
  },
  {
   "cell_type": "code",
   "execution_count": 32,
   "metadata": {},
   "outputs": [
    {
     "data": {
      "application/vnd.jupyter.widget-view+json": {
       "model_id": "14b854fed50c44668da07fbac018c0a1",
       "version_major": 2,
       "version_minor": 0
      },
      "text/plain": [
       "Output()"
      ]
     },
     "metadata": {},
     "output_type": "display_data"
    },
    {
     "data": {
      "application/vnd.jupyter.widget-view+json": {
       "model_id": "29a0027af1714aefb960bda241d6f062",
       "version_major": 2,
       "version_minor": 0
      },
      "text/plain": [
       "Output()"
      ]
     },
     "metadata": {},
     "output_type": "display_data"
    }
   ],
   "source": [
    "# Example usage in Jupyter Lab:\n",
    "# Load and convert the mask\n",
    "with open('/home/matiasgp/Desktop/ABLA/results/targ65_full.pkl', 'rb') as f:\n",
    "    seg_results = pickle.load(f)\n",
    "\n",
    "mask_array = convert_mask_to_numpy(seg_results['mask'])\n",
    "\n",
    "# Plot the mask\n",
    "plot_in_notebook(\n",
    "    array=mask_array,\n",
    "    num_slices=20,  # Average 5 slices per frame\n",
    "    custom_name='mask_visualization',\n",
    "    speed_factor=4,  # Normal speed\n",
    "    show_in_notebook=True\n",
    ")\n",
    "plot_in_notebook(\n",
    "    array=seg_results[\"tomo\"],\n",
    "    num_slices=20,  # Average 5 slices per frame\n",
    "    custom_name='tomo_visualization',\n",
    "    speed_factor=4,  # Normal speed\n",
    "    show_in_notebook=True\n",
    ")\n",
    "\n"
   ]
  },
  {
   "cell_type": "code",
   "execution_count": null,
   "metadata": {},
   "outputs": [],
   "source": []
  }
 ],
 "metadata": {
  "kernelspec": {
   "display_name": "matias",
   "language": "python",
   "name": "python3"
  },
  "language_info": {
   "codemirror_mode": {
    "name": "ipython",
    "version": 3
   },
   "file_extension": ".py",
   "mimetype": "text/x-python",
   "name": "python",
   "nbconvert_exporter": "python",
   "pygments_lexer": "ipython3",
   "version": "3.12.3"
  }
 },
 "nbformat": 4,
 "nbformat_minor": 2
}
